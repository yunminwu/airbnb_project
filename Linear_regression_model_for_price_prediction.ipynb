{
 "cells": [
  {
   "cell_type": "markdown",
   "metadata": {},
   "source": [
    "# A linear regression model for price recommendation\n",
    "We construct a machine learning model based on linear regression to recommend a price for an Airbnb property in Mallorca. The prediction is based on:<br />\n",
    "    - Zipcode <br />\n",
    "    - Property type<br />\n",
    "    - Number of rooms<br />\n",
    "    - Number of guests<br />"
   ]
  },
  {
   "cell_type": "code",
   "execution_count": 2,
   "metadata": {},
   "outputs": [
    {
     "name": "stderr",
     "output_type": "stream",
     "text": [
      "/opt/anaconda3/lib/python3.7/site-packages/IPython/core/interactiveshell.py:3063: DtypeWarning: Columns (43,61,62) have mixed types.Specify dtype option on import or set low_memory=False.\n",
      "  interactivity=interactivity, compiler=compiler, result=result)\n"
     ]
    }
   ],
   "source": [
    "import plotly\n",
    "import numpy as np\n",
    "import pandas as pd\n",
    "import matplotlib.pyplot as plt\n",
    "import seaborn as sns\n",
    "from sklearn.linear_model import LinearRegression\n",
    "from sklearn import preprocessing\n",
    "from sklearn.model_selection import train_test_split\n",
    "from sklearn.metrics import r2_score, mean_squared_error\n",
    "%matplotlib inline\n",
    "\n",
    "listings = pd.read_csv('listings.csv')"
   ]
  },
  {
   "cell_type": "markdown",
   "metadata": {},
   "source": [
    "## Data Preparation"
   ]
  },
  {
   "cell_type": "code",
   "execution_count": 3,
   "metadata": {},
   "outputs": [],
   "source": [
    "# numerize price\n",
    "listings.price.dtypes\n",
    "price_in_num = []\n",
    "for i in range(listings.shape[0]):\n",
    "    price_in_num.append(int(listings.price[i][1:-3].replace(',','')))\n",
    "listings.price = np.asarray(price_in_num)"
   ]
  },
  {
   "cell_type": "code",
   "execution_count": 4,
   "metadata": {},
   "outputs": [],
   "source": [
    "# numerize cleaninge fee\n",
    "cleaning_fee_in_num = []\n",
    "for i in range(listings.shape[0]):\n",
    "    if listings.cleaning_fee.isna()[i]:\n",
    "        cleaning_fee_in_num.append(np.nan)\n",
    "    else:\n",
    "        cleaning_fee_in_num.append(int(listings.cleaning_fee[i][1:-3].replace(',','')))\n",
    "listings.cleaning_fee = np.asarray(cleaning_fee_in_num)"
   ]
  },
  {
   "cell_type": "code",
   "execution_count": 5,
   "metadata": {},
   "outputs": [],
   "source": [
    "# numerize zipcode\n",
    "zipcode_in_num = []\n",
    "for i in range(listings.shape[0]):\n",
    "    if str(listings.zipcode[i]).find('7')<0:\n",
    "        zipcode_in_num.append(np.nan)\n",
    "    else:\n",
    "        zipcode_str = str(listings.zipcode[i])\n",
    "        zipcode_in_num.append(int(zipcode_str[zipcode_str.find('7'):(zipcode_str.find('7')+4)]))\n",
    "listings.zipcode = np.asarray(zipcode_in_num)"
   ]
  },
  {
   "cell_type": "code",
   "execution_count": 6,
   "metadata": {},
   "outputs": [
    {
     "data": {
      "text/plain": [
       "longitude               -0.070968\n",
       "accommodates             0.346583\n",
       "bathrooms                0.408298\n",
       "bedrooms                 0.343615\n",
       "beds                     0.259140\n",
       "price                    1.000000\n",
       "cleaning_fee             0.150330\n",
       "guests_included          0.129852\n",
       "number_of_reviews       -0.114778\n",
       "number_of_reviews_ltm   -0.129768\n",
       "review_scores_rating     0.059870\n",
       "reviews_per_month       -0.178631\n",
       "Name: price, dtype: float64"
      ]
     },
     "execution_count": 6,
     "metadata": {},
     "output_type": "execute_result"
    }
   ],
   "source": [
    "# looking for features that is correlated to price\n",
    "listings.corr().price[abs(listings.corr().price)>0.05]"
   ]
  },
  {
   "cell_type": "markdown",
   "metadata": {},
   "source": [
    "### Build feature matrix"
   ]
  },
  {
   "cell_type": "code",
   "execution_count": 7,
   "metadata": {},
   "outputs": [
    {
     "data": {
      "text/plain": [
       "zipcode         392\n",
       "room_type         0\n",
       "accommodates      0\n",
       "bedrooms         12\n",
       "bathrooms         5\n",
       "beds             92\n",
       "price             0\n",
       "dtype: int64"
      ]
     },
     "execution_count": 7,
     "metadata": {},
     "output_type": "execute_result"
    }
   ],
   "source": [
    "# select features to build the model\n",
    "features_included = ['zipcode','room_type','accommodates','bedrooms','bathrooms','beds','price']\n",
    "df = listings[features_included]\n",
    "df.isnull().sum(0)"
   ]
  },
  {
   "cell_type": "code",
   "execution_count": 8,
   "metadata": {},
   "outputs": [
    {
     "data": {
      "text/plain": [
       "bathrooms       1.000000\n",
       "bedrooms        0.811842\n",
       "accommodates    0.787599\n",
       "beds            0.699212\n",
       "price           0.408298\n",
       "Name: bathrooms, dtype: float64"
      ]
     },
     "execution_count": 8,
     "metadata": {},
     "output_type": "execute_result"
    }
   ],
   "source": [
    "listings.corr().bedrooms.sort_values(ascending=False)[:5]\n",
    "listings.corr().beds.sort_values(ascending=False)[:5]\n",
    "listings.corr().bathrooms.sort_values(ascending=False)[:5]"
   ]
  },
  {
   "cell_type": "markdown",
   "metadata": {},
   "source": [
    "### Impute missing values"
   ]
  },
  {
   "cell_type": "code",
   "execution_count": 9,
   "metadata": {},
   "outputs": [
    {
     "data": {
      "text/plain": [
       "zipcode         392\n",
       "room_type         0\n",
       "accommodates      0\n",
       "price             0\n",
       "beds              0\n",
       "bathrooms         0\n",
       "bedrooms          0\n",
       "zipcode_fill      0\n",
       "dtype: int64"
      ]
     },
     "execution_count": 9,
     "metadata": {},
     "output_type": "execute_result"
    }
   ],
   "source": [
    "# impute missing values with linear regression based on \n",
    "def impute_missing_values(df,feature = 'beds',reference = 'accommodates'):\n",
    "    df_wo_missing_values = df.dropna(axis=0, how='any')\n",
    "    X = np.asarray(df_wo_missing_values[reference]).reshape(-1,1)\n",
    "    y = np.asarray(df_wo_missing_values[feature])\n",
    "    reg = LinearRegression().fit(X,y)\n",
    "    sel = df[feature][df[feature].isna()].index\n",
    "    new_feature = np.asarray(df[feature])\n",
    "    new_feature[sel]= reg.coef_*np.asarray(df[reference])[sel]+reg.intercept_\n",
    "    df_new = df.drop(columns=[feature])\n",
    "    df_new[feature]=new_feature\n",
    "    return df_new\n",
    "\n",
    "df = impute_missing_values(df,feature = 'beds',reference = 'accommodates')\n",
    "df = impute_missing_values(df,feature = 'bathrooms',reference = 'accommodates')\n",
    "df = impute_missing_values(df,feature = 'bedrooms',reference = 'accommodates')\n",
    "df['zipcode_fill'] = df['zipcode'].fillna(df['zipcode'].mean())\n",
    "df.isna().sum()"
   ]
  },
  {
   "cell_type": "markdown",
   "metadata": {},
   "source": [
    "### Convert categorical features by one hot encoding"
   ]
  },
  {
   "cell_type": "code",
   "execution_count": 10,
   "metadata": {},
   "outputs": [],
   "source": [
    "# conver categorical data 'room_type' to numerical data with one hot encoder\n",
    "room_type_encoded = pd.get_dummies(df.room_type)\n",
    "df_en = pd.concat([df.drop(columns=['room_type']), room_type_encoded], axis=1)\n",
    "# remove outliers, aka luxury properties\n",
    "df_sel = df_en[df_en.price<=2000]"
   ]
  },
  {
   "cell_type": "code",
   "execution_count": 11,
   "metadata": {},
   "outputs": [
    {
     "name": "stdout",
     "output_type": "stream",
     "text": [
      "0.35378793075620485 0.34394247386429855\n"
     ]
    }
   ],
   "source": [
    "# prepare data for linear regression to predict\n",
    "X = np.asarray(df_sel.drop(columns=['price','zipcode']))\n",
    "# X_norm = preprocessing.StandardScaler().fit(X).transform(X)\n",
    "y = np.asarray(df_sel.price).reshape(-1,1)\n",
    "\n",
    "\n",
    "# split dataset for training and testing\n",
    "X_train, X_test, y_train, y_test = train_test_split(X, y, test_size=0.2, random_state=42) \n",
    "\n",
    "# generate a model based on linear regression\n",
    "lm_model = LinearRegression(normalize=True) # Instantiate\n",
    "lm_model.fit(X_train, y_train) #Fit\n",
    "\n",
    "# predict using the model\n",
    "y_test_preds = lm_model.predict(X_test)\n",
    "y_train_preds = lm_model.predict(X_train)\n",
    "\n",
    "#Score using your model\n",
    "test_score = r2_score(y_test, y_test_preds)\n",
    "train_score = r2_score(y_train, y_train_preds)\n",
    "\n",
    "print(test_score,train_score)"
   ]
  },
  {
   "cell_type": "markdown",
   "metadata": {},
   "source": [
    "## Further reference on pricing based on neighborhoods and room_type\n",
    "Since the price of Airbnb properties vary a lot and our model only explains ~35% of the variance, below are some further reference information to set a price for a new Airbnb propterty."
   ]
  },
  {
   "cell_type": "code",
   "execution_count": 12,
   "metadata": {},
   "outputs": [
    {
     "data": {
      "text/plain": [
       "(0, 600)"
      ]
     },
     "execution_count": 12,
     "metadata": {},
     "output_type": "execute_result"
    },
    {
     "data": {
      "image/png": "[encoded data removed]",
      "text/plain": [
       "<Figure size 1080x648 with 1 Axes>"
      ]
     },
     "metadata": {
      "needs_background": "light"
     },
     "output_type": "display_data"
    }
   ],
   "source": [
    "# visualize price distributin in different neighborhoods\n",
    "listings.boxplot(column=['price'],by='neighbourhood_cleansed',grid=False, rot=90,figsize=(15,9),\n",
    "                 showfliers=False)\n",
    "plt.ylim([0,600])"
   ]
  },
  {
   "cell_type": "code",
   "execution_count": 16,
   "metadata": {},
   "outputs": [
    {
     "data": {
      "image/png": "[encoded data removed]",
      "text/plain": [
       "<Figure size 432x648 with 1 Axes>"
      ]
     },
     "metadata": {
      "needs_background": "light"
     },
     "output_type": "display_data"
    }
   ],
   "source": [
    "# visualize price distributin for different room types\n",
    "listings.boxplot(column=['price'],by='room_type',grid=False, rot=90,figsize=(6,9), showfliers=False)\n",
    "plt.ylim([0,600])\n",
    "plt.ylabel('Price')\n",
    "plt.title('')\n",
    "plt.savefig('Price_by_room_type.png')"
   ]
  },
  {
   "cell_type": "code",
   "execution_count": null,
   "metadata": {},
   "outputs": [],
   "source": []
  }
 ],
 "metadata": {
  "kernelspec": {
   "display_name": "Python 3",
   "language": "python",
   "name": "python3"
  },
  "language_info": {
   "codemirror_mode": {
    "name": "ipython",
    "version": 3
   },
   "file_extension": ".py",
   "mimetype": "text/x-python",
   "name": "python",
   "nbconvert_exporter": "python",
   "pygments_lexer": "ipython3",
   "version": "3.7.6"
  }
 },
 "nbformat": 4,
 "nbformat_minor": 4
}
